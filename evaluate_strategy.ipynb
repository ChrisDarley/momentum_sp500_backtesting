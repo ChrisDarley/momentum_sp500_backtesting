{
 "cells": [
  {
   "cell_type": "code",
   "execution_count": null,
   "metadata": {},
   "outputs": [],
   "source": [
    "\"\"\"Notebook to calculate the yearly compounding returns of\n",
    "the strategy after accounting for 25% short term capital\n",
    "gains tax, but not accounting for any trading fees\"\"\""
   ]
  },
  {
   "cell_type": "code",
   "execution_count": 1,
   "metadata": {},
   "outputs": [],
   "source": [
    "import sqlalchemy\n",
    "import pandas as pd\n",
    "engine = sqlalchemy.create_engine('sqlite:///backtesting.db')\n",
    "with engine.connect() as con:\n",
    "    sp500_monthly_returns = pd.read_sql(\n",
    "        'sp500_monthly_returns', con=con, index_col='Date')\n",
    "    strategy_monthly_returns = pd.read_sql(\n",
    "        'strategy_monthly_returns', con=con, index_col='Date')"
   ]
  },
  {
   "cell_type": "code",
   "execution_count": 2,
   "metadata": {},
   "outputs": [],
   "source": [
    "# Replacing any monthly return over 5x with np.nan\n",
    "def remove_outliers(df_):\n",
    "    return (df_.where(lambda x: x<=5))\n",
    "\n",
    "sp_clean = remove_outliers(sp500_monthly_returns)\n",
    "strat_clean = remove_outliers(strategy_monthly_returns)"
   ]
  },
  {
   "cell_type": "code",
   "execution_count": 3,
   "metadata": {},
   "outputs": [],
   "source": [
    "# Creating a dataframe with the mean monthly returns of\n",
    "# the sp500 and of the strategy selection, and calling it \n",
    "# df_joined\n",
    "sp_means = sp_clean.mean(axis=1)\n",
    "strat_means = strat_clean.mean(axis=1)\n",
    "df_joined = pd.concat([strat_means, sp_means],\n",
    " axis=1)\n",
    "df_joined.columns= 'strat', 'sp500'"
   ]
  },
  {
   "cell_type": "code",
   "execution_count": 4,
   "metadata": {},
   "outputs": [],
   "source": [
    "# Calculating the yearly returns after removing short term tax each year\n",
    "yearly_returns_taxed = (df_joined\n",
    "    # loc on strat values where the previous sp500 return was >=1\n",
    "    .loc[(df_joined[\"sp500\"].shift(-1)>=1), [\"strat\"]]\n",
    "    # Calculate yearly returns\n",
    "    .resample('Y').prod()\n",
    "    .squeeze()\n",
    "    # For positive returns, scale growth of return by 75% to account \n",
    "    # for short term capital gains tax\n",
    "    .apply(lambda x: (((x-1)*0.75)+1) if x>1 else x))"
   ]
  },
  {
   "cell_type": "code",
   "execution_count": 5,
   "metadata": {},
   "outputs": [
    {
     "data": {
      "text/plain": [
       "Date\n",
       "2000-12-31    1.477622\n",
       "2001-12-31    1.565753\n",
       "2002-12-31    1.361841\n",
       "2003-12-31    1.962405\n",
       "2004-12-31    2.173993\n",
       "2005-12-31    2.279926\n",
       "2006-12-31    1.772903\n",
       "2007-12-31    2.169815\n",
       "2008-12-31    1.690541\n",
       "2009-12-31    1.905637\n",
       "2010-12-31    2.217822\n",
       "2011-12-31    2.177991\n",
       "2012-12-31    2.438576\n",
       "2013-12-31    2.813285\n",
       "2014-12-31    3.011508\n",
       "2015-12-31    2.868464\n",
       "2016-12-31    3.377878\n",
       "2017-12-31    3.969569\n",
       "2018-12-31    3.300014\n",
       "2019-12-31    3.544506\n",
       "2020-12-31    4.737846\n",
       "2021-12-31    4.668606\n",
       "2022-12-31    4.104288\n",
       "Freq: A-DEC, Name: strat, dtype: float64"
      ]
     },
     "execution_count": 5,
     "metadata": {},
     "output_type": "execute_result"
    }
   ],
   "source": [
    "# Calculate the yearly coompunding returns of strategy\n",
    "yearly_returns_taxed.cumprod()"
   ]
  }
 ],
 "metadata": {
  "kernelspec": {
   "display_name": "env",
   "language": "python",
   "name": "python3"
  },
  "language_info": {
   "codemirror_mode": {
    "name": "ipython",
    "version": 3
   },
   "file_extension": ".py",
   "mimetype": "text/x-python",
   "name": "python",
   "nbconvert_exporter": "python",
   "pygments_lexer": "ipython3",
   "version": "3.10.6"
  },
  "orig_nbformat": 4,
  "vscode": {
   "interpreter": {
    "hash": "9f7e508ac05146581927a37fc4944903769746c35d61be11460b72a81b142ea0"
   }
  }
 },
 "nbformat": 4,
 "nbformat_minor": 2
}
