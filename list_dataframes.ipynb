{
 "cells": [
  {
   "cell_type": "code",
   "execution_count": null,
   "metadata": {},
   "outputs": [],
   "source": [
    "\"\"\"Notebook to list all dataframes currently contained in the \n",
    "backtesting.db database\"\"\""
   ]
  },
  {
   "cell_type": "code",
   "execution_count": 4,
   "metadata": {},
   "outputs": [
    {
     "name": "stdout",
     "output_type": "stream",
     "text": [
      "['12MonthReturns', '3MonthReturns', '6MonthReturns', 'changes_df', 'marketCloseData', 'monthlyReturns', 'sp500_monthly_returns', 'strategy_monthly_returns', 'ticker_df']\n"
     ]
    }
   ],
   "source": [
    "import sqlalchemy\n",
    "import pandas as pd\n",
    "import numpy as np\n",
    "from sqlalchemy import inspect\n",
    "\n",
    "engine = sqlalchemy.create_engine('sqlite:///backtesting.db')\n",
    "inspector = inspect(engine)\n",
    "tables = []\n",
    "for table_name in inspector.get_table_names():\n",
    "    tables.append(table_name)\n",
    "print(tables)"
   ]
  },
  {
   "cell_type": "code",
   "execution_count": null,
   "metadata": {},
   "outputs": [],
   "source": []
  }
 ],
 "metadata": {
  "kernelspec": {
   "display_name": "env",
   "language": "python",
   "name": "python3"
  },
  "language_info": {
   "codemirror_mode": {
    "name": "ipython",
    "version": 3
   },
   "file_extension": ".py",
   "mimetype": "text/x-python",
   "name": "python",
   "nbconvert_exporter": "python",
   "pygments_lexer": "ipython3",
   "version": "3.10.6"
  },
  "orig_nbformat": 4,
  "vscode": {
   "interpreter": {
    "hash": "9f7e508ac05146581927a37fc4944903769746c35d61be11460b72a81b142ea0"
   }
  }
 },
 "nbformat": 4,
 "nbformat_minor": 2
}
